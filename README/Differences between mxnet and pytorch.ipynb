{
 "cells": [
  {
   "cell_type": "markdown",
   "metadata": {},
   "source": [
    "*Author:wxz*  \n",
    "*2018/08/06*"
   ]
  },
  {
   "cell_type": "markdown",
   "metadata": {},
   "source": [
    "# Work\n",
    "目前正在做一个把`Pytorch`框架的推荐算法改成`Mxnet`框架。  \n",
    "`mxnet`框架发展得很快速，目前支持的编程语言有Python,Scala,R, Julia, Perl, Cpp。支持GPU编程，也支持多GPU编程。 支持Linux和MacOS，但是WindowOS还不支持。  \n",
    "改编的过程还算顺利，因为两种框架的层的名字、定义基本相同，还有数据集类的定义也相同，基本不用改动，但是同时也碰到了很多坑，这些坑是这两个框架之间很不一样的地方，其中有一个初始化的坑卡了差不多2天。废话不多说，摆坑。"
   ]
  },
  {
   "cell_type": "markdown",
   "metadata": {},
   "source": [
    "# 1.初始化方式不一样\n",
    "pytorch的初始化可以在网络定义的时候直接初始化，但是mxnet的初始化必须在建立对象之后，由对象执行initialize()函数才能够初始化。下面给出代码逐步分析，为了让代码简洁，特意删去网络的前传过程，仅仅给出初始化过程：__init__()\n",
    "## Pytorch"
   ]
  },
  {
   "cell_type": "code",
   "execution_count": null,
   "metadata": {},
   "outputs": [],
   "source": [
    "import numpy as np\n",
    "import torch\n",
    "import torch.nn as nn\n",
    "import pdb\n",
    "\n",
    "class NeuMF(nn.Module):\n",
    "    def __init__(self, nb_users, nb_items,\n",
    "                 mf_dim, mf_reg,\n",
    "                 mlp_layer_sizes, mlp_layer_regs):\n",
    "        # TODO: regularization?\n",
    "        self.mf_user_embed = nn.Embedding(nb_users, mf_dim)\n",
    "        self.mf_item_embed = nn.Embedding(nb_items, mf_dim)\n",
    "        self.mlp_user_embed = nn.Embedding(nb_users, mlp_layer_sizes[0] // 2)\n",
    "        self.mlp_item_embed = nn.Embedding(nb_items, mlp_layer_sizes[0] // 2)\n",
    "\n",
    "        self.mlp = nn.ModuleList()\n",
    "        for i in range(1, nb_mlp_layers):\n",
    "            self.mlp.extend([nn.Linear(mlp_layer_sizes[i - 1], mlp_layer_sizes[i])])\n",
    "\n",
    "        self.final = nn.Linear(mlp_layer_sizes[-1] + mf_dim, 1)\n",
    "\n",
    "        # pytorch在函数定义时就可以初始化函数，也就是说这个NeuMF类生成一个\n",
    "        # 对象时就可以直接拥有初始化的权重。\n",
    "        self.mf_user_embed.weight.data.normal_(0., 0.01)\n",
    "        self.mf_item_embed.weight.data.normal_(0., 0.01)\n",
    "        self.mlp_user_embed.weight.data.normal_(0., 0.01)\n",
    "        self.mlp_item_embed.weight.data.normal_(0., 0.01)\n",
    "\n",
    "net = NeuMF(self, nb_users, nb_items,\n",
    "            mf_dim, mf_reg,\n",
    "            mlp_layer_sizes, mlp_layer_regs) # net现在已经初始化了，可以直接输入数据"
   ]
  },
  {
   "cell_type": "markdown",
   "metadata": {},
   "source": [
    "## Mxnet"
   ]
  },
  {
   "cell_type": "code",
   "execution_count": null,
   "metadata": {},
   "outputs": [],
   "source": [
    "import numpy as np\n",
    "from mxnet.gluon import nn\n",
    "from mxnet import nd\n",
    "import mxnet as mx\n",
    "\n",
    "class NeuMF(nn.HybridBlock): #if using nn.Hybridblock, it will generate static graph\n",
    "    def __init__(self, nb_users, nb_items,\n",
    "                 mf_dim, mf_reg,\n",
    "                 mlp_layer_sizes,\n",
    "                 mlp_layer_regs,# mlp_layer_regs is a reconfirm\n",
    "                 ctx):  # Indicate the context is CPU or GPU\n",
    "        super(NeuMF, self).__init__()\n",
    "        with self.name_scope():\n",
    "            nb_mlp_layers = len(mlp_layer_sizes)  # nb is the short of  number\n",
    "            nn.Embedding\n",
    "            self.mf_user_embed = nn.Embedding(nb_users, mf_dim,\n",
    "                                          weight_initializer=mx.init.Normal())\n",
    "            self.mf_item_embed = nn.Embedding(nb_items, mf_dim,\n",
    "                                          weight_initializer=mx.init.Normal())\n",
    "                                        # mf_dim means the number of predictive factors,\n",
    "            self.mlp_user_embed = nn.Embedding(nb_users, mlp_layer_sizes[0] // 2,\n",
    "                                           weight_initializer=mx.init.Normal())\n",
    "            # put user and item into the mlp together\n",
    "            self.mlp_item_embed = nn.Embedding(nb_items, mlp_layer_sizes[0] // 2,\n",
    "                                           weight_initializer=mx.init.Normal())"
   ]
  }
 ],
 "metadata": {
  "kernelspec": {
   "display_name": "Python 3",
   "language": "python",
   "name": "python3"
  },
  "language_info": {
   "codemirror_mode": {
    "name": "ipython",
    "version": 3
   },
   "file_extension": ".py",
   "mimetype": "text/x-python",
   "name": "python",
   "nbconvert_exporter": "python",
   "pygments_lexer": "ipython3",
   "version": "3.6.5"
  }
 },
 "nbformat": 4,
 "nbformat_minor": 2
}
