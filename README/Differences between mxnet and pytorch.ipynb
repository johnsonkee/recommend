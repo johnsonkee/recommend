{
 "cells": [
  {
   "cell_type": "markdown",
   "metadata": {},
   "source": [
    "*Author:wxz*  \n",
    "*2018/08/06*  \n",
    "*Email:876688461@qq.com*"
   ]
  },
  {
   "cell_type": "markdown",
   "metadata": {},
   "source": [
    " # Work\n",
    "目前正在做一个把`Pytorch`框架的推荐算法改成`Mxnet`框架。  \n",
    "`mxnet`框架发展得很快速，目前支持的编程语言有Python,Scala,R, Julia, Perl, Cpp。支持GPU编程，也支持多GPU编程。 支持Linux和MacOS，但是WindowOS还不支持。  \n",
    "改编的过程还算顺利，因为两种框架的层的名字、定义基本相同，还有数据集类的定义也相同，基本不用改动，但是同时也碰到了很多坑，这些坑是这两个框架之间很不一样的地方，其中有一个初始化的坑卡了差不多2天。废话不多说，摆坑。"
   ]
  },
  {
   "cell_type": "markdown",
   "metadata": {},
   "source": [
    "# 1.初始化方式不一样\n",
    "pytorch的初始化可以在网络定义的时候直接初始化，但是mxnet的初始化必须在建立对象之后，由对象执行initialize()函数才能够初始化。下面给出代码逐步分析，为了让代码简洁，特意删去网络的前传过程，仅仅给出初始化过程：`__init__()`\n",
    "## Pytorch"
   ]
  },
  {
   "cell_type": "code",
   "execution_count": null,
   "metadata": {},
   "outputs": [],
   "source": [
    "import numpy as np\n",
    "import torch\n",
    "import torch.nn as nn\n",
    "import pdb\n",
    "\n",
    "class NeuMF(nn.Module):\n",
    "    def __init__(self, nb_users, nb_items,\n",
    "                 mf_dim):\n",
    "        # TODO: regularization?\n",
    "        super(NeuMF, self ).__init__()\n",
    "        self.mf_user_embed = nn.Embedding(nb_users, mf_dim)\n",
    "        self.mf_item_embed = nn.Embedding(nb_items, mf_dim)\n",
    "        self.mlp_user_embed = nn.Embedding(nb_users, 1)\n",
    "        self.mlp_item_embed = nn.Embedding(nb_items, 1)\n",
    "\n",
    "        # pytorch在函数定义时就可以初始化函数，也就是说这个NeuMF类生成一个\n",
    "        # 对象时就可以直接拥有初始化的权重。\n",
    "        self.mf_user_embed.weight.data.normal_(0., 0.01)\n",
    "        self.mf_item_embed.weight.data.normal_(0., 0.01)\n",
    "        self.mlp_user_embed.weight.data.normal_(0., 0.01)\n",
    "        self.mlp_item_embed.weight.data.normal_(0., 0.01)\n",
    "\n",
    "nb_users, nb_items = 1,1\n",
    "mf_dim = 1\n",
    "\n",
    "net = NeuMF(nb_users, nb_items, mf_dim) # net现在已经初始化了，可以直接输入数据\n"
   ]
  },
  {
   "cell_type": "markdown",
   "metadata": {},
   "source": [
    "## Mxnet"
   ]
  },
  {
   "cell_type": "code",
   "execution_count": null,
   "metadata": {},
   "outputs": [],
   "source": [
    "import numpy as np\n",
    "from mxnet.gluon import nn\n",
    "from mxnet import nd\n",
    "import mxnet as mx\n",
    "\n",
    "class NeuMF(nn.HybridBlock): #if using nn.Hybridblock, it will generate static graph\n",
    "    def __init__(self, nb_users, nb_items,\n",
    "                 mf_dim): \n",
    "        super(NeuMF, self).__init__()\n",
    "        with self.name_scope():\n",
    "            # 这里指定了四个层的初始化方式：mx.init.Normal()\n",
    "            # 但是只是指定了方式而已，还未初始化\n",
    "            self.mf_user_embed = nn.Embedding(nb_users, mf_dim,\n",
    "                                          weight_initializer=mx.init.Normal())\n",
    "            self.mf_item_embed = nn.Embedding(nb_items, mf_dim,\n",
    "                                          weight_initializer=mx.init.Normal())\n",
    "            self.mlp_user_embed = nn.Embedding(nb_users, 1,\n",
    "                                           weight_initializer=mx.init.Normal())\n",
    "            self.mlp_item_embed = nn.Embedding(nb_items, 1,\n",
    "                                           weight_initializer=mx.init.Normal())\n",
    "nb_users, nb_items = 1,1\n",
    "mf_dim = 1\n",
    "\n",
    "net = NeuMF(nb_users, nb_items,\n",
    "            mf_dim) # net现在还未初始化\n",
    "net.initialize() # 使用了initialize()函数之后，net才算是真正初始化"
   ]
  },
  {
   "cell_type": "markdown",
   "metadata": {},
   "source": [
    "# 2.自动求导的方式不一样\n",
    "## Pytorch"
   ]
  },
  {
   "cell_type": "code",
   "execution_count": null,
   "metadata": {},
   "outputs": [],
   "source": [
    "import torch\n",
    "# pytorch里是将变量变成torch.autograd.Variable类型来自动求导的\n",
    "\n",
    "user = torch.autograd.Variable(user, requires_grad=False)\n",
    "item = torch.autograd.Variable(item, requires_grad=False)\n",
    "label = torch.autograd.Variable(label, requires_grad=False)\n",
    "\n",
    "# pretend that the model has been well trained\n",
    "outputs = model(user, item)\n",
    "loss = criterion(outputs, label)\n",
    "loss.backward()"
   ]
  },
  {
   "cell_type": "markdown",
   "metadata": {},
   "source": [
    "## Mxnet"
   ]
  },
  {
   "cell_type": "code",
   "execution_count": null,
   "metadata": {},
   "outputs": [],
   "source": [
    "import mxnet\n",
    "\n",
    "ctx = mxnet.cpu()\n",
    "user = nd.array(user,ctx=ctx)\n",
    "item = nd.array(item,ctx=ctx)\n",
    "label = nd.array(label,ctx=ctx)\n",
    "\n",
    "# compute the gradient automatically\n",
    "# mxnet里是将变量放到with autograd.record():\n",
    "# 之下使其获得自动求导的能力\n",
    "with autograd.record():\n",
    "    outputs = model(user, item)\n",
    "    loss = mxnet_criterion(outputs, label.T)\n",
    "\n",
    "loss.backward()\n",
    "trainer.step(bs)"
   ]
  },
  {
   "cell_type": "markdown",
   "metadata": {},
   "source": [
    "# 3.使用GPU编程的定义操作不一样"
   ]
  },
  {
   "cell_type": "markdown",
   "metadata": {},
   "source": [
    "## Pytorch\n"
   ]
  },
  {
   "cell_type": "code",
   "execution_count": null,
   "metadata": {},
   "outputs": [],
   "source": [
    "# 数据\n",
    "import torch "
   ]
  },
  {
   "cell_type": "markdown",
   "metadata": {},
   "source": [
    "所有数据都默认放在cpu里"
   ]
  },
  {
   "cell_type": "code",
   "execution_count": null,
   "metadata": {},
   "outputs": [],
   "source": [
    "a = torch.tensor([1,2,3])\n",
    "\n",
    "# 选择cpu还是gpu,这里选择gpu\n",
    "use_cuda = True\n",
    "device = torch.device(\"cuda\" if use_cuda else \"cpu\")\n",
    "\n",
    "# 把数据放到gpu里\n",
    "a = a.to(device)"
   ]
  },
  {
   "cell_type": "markdown",
   "metadata": {},
   "source": [
    "在编写深度学习网络时，要把网络模型、损失函数、优化准则也一并放到\n",
    "gpu里才行  \n",
    "假设model, loss, criterion分别是定义好的网络模型、损失函数、\n",
    "优化准则，由于没有预先定义，下面的代码运行会出错"
   ]
  },
  {
   "cell_type": "code",
   "execution_count": null,
   "metadata": {},
   "outputs": [],
   "source": [
    "# 存放到gpu里\n",
    "model = model.to(device)\n",
    "loss = loss.to(device)\n",
    "criterion = criterion.to(device)"
   ]
  },
  {
   "cell_type": "markdown",
   "metadata": {},
   "source": [
    "## Mxnet\n",
    "在mxnet的`gluon`模块里，几乎所有的类在定义是都会具有ctx这个参数，  \n",
    "我们在定义我们的变量时可以选择把其放到cpu还是gpu"
   ]
  },
  {
   "cell_type": "code",
   "execution_count": null,
   "metadata": {},
   "outputs": [],
   "source": [
    "# 数据\n",
    "import mxnet\n",
    "import numpy as np"
   ]
  },
  {
   "cell_type": "markdown",
   "metadata": {},
   "source": [
    "选择cpu还是gpu,这里选择gpu  \n",
    "注意mxnet只能支持Nvidia的显卡  \n",
    "不支持AMD的显卡  "
   ]
  },
  {
   "cell_type": "code",
   "execution_count": null,
   "metadata": {},
   "outputs": [],
   "source": [
    "use_cuda = True\n",
    "ctx= mx.gpu() if use_cuda else mx.cpu()\n",
    "\n",
    "# 默认放在cpu里\n",
    "a = mxnet.nd.array([1,2,3])\n",
    "\n",
    "# 使用gpu\n",
    "a = mxnet.nd.array([1,2,3], ctx=ctx)"
   ]
  },
  {
   "cell_type": "markdown",
   "metadata": {},
   "source": [
    "**mxnet里不用把网络、损失函数、优化准则放到gpu里**\n",
    "\n",
    "------------------\n",
    "若在定义数据时忘记把数据放到gpu里而又想在gpu里  \n",
    "运算怎么办呢\n",
    "\n",
    "使用copyto和as_in_context都可以把数据转化到gpu"
   ]
  },
  {
   "cell_type": "code",
   "execution_count": null,
   "metadata": {},
   "outputs": [],
   "source": [
    "b = mxnet.nd.array([1,2,3])\n",
    "\n",
    "b_gpu = b.copyto(mxnet.gpu())\n",
    "b_gpu1 = b.as_in_context(mxnet.gpu())"
   ]
  }
 ],
 "metadata": {
  "kernelspec": {
   "display_name": "Python 3",
   "language": "python",
   "name": "python3"
  },
  "language_info": {
   "codemirror_mode": {
    "name": "ipython",
    "version": 3
   },
   "file_extension": ".py",
   "mimetype": "text/x-python",
   "name": "python",
   "nbconvert_exporter": "python",
   "pygments_lexer": "ipython3",
   "version": "3.6.5"
  }
 },
 "nbformat": 4,
 "nbformat_minor": 2
}
